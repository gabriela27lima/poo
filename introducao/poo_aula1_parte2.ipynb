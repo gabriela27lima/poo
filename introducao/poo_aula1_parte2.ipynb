{
 "cells": [
  {
   "cell_type": "code",
   "execution_count": 2,
   "id": "0e458d62-5b72-4f95-a080-ed6975c8150a",
   "metadata": {},
   "outputs": [],
   "source": [
    "class Carro:\n",
    "    def __init__(self, modelo, ano, cor):\n",
    "        self.modelo = modelo\n",
    "        self.ano = ano\n",
    "        self.cor = cor"
   ]
  },
  {
   "cell_type": "code",
   "execution_count": 5,
   "id": "e5161c4a-94bf-473f-b6d8-6b4cda1ea052",
   "metadata": {},
   "outputs": [],
   "source": [
    "carro_do_meu_avo = Carro(\"Ferrari\", 1980, \"vermelho\")"
   ]
  },
  {
   "cell_type": "code",
   "execution_count": 7,
   "id": "a0d72e0c-d1ed-4c5f-a95a-c7b1c2a5d683",
   "metadata": {},
   "outputs": [
    {
     "data": {
      "text/plain": [
       "'vermelho'"
      ]
     },
     "execution_count": 7,
     "metadata": {},
     "output_type": "execute_result"
    }
   ],
   "source": [
    "carro_do_meu_avo.cor"
   ]
  },
  {
   "cell_type": "code",
   "execution_count": null,
   "id": "b5d80258-4cbe-4d00-b2db-42f2b7f64662",
   "metadata": {},
   "outputs": [],
   "source": []
  }
 ],
 "metadata": {
  "kernelspec": {
   "display_name": "Python 3 (ipykernel)",
   "language": "python",
   "name": "python3"
  },
  "language_info": {
   "codemirror_mode": {
    "name": "ipython",
    "version": 3
   },
   "file_extension": ".py",
   "mimetype": "text/x-python",
   "name": "python",
   "nbconvert_exporter": "python",
   "pygments_lexer": "ipython3",
   "version": "3.10.9"
  }
 },
 "nbformat": 4,
 "nbformat_minor": 5
}
