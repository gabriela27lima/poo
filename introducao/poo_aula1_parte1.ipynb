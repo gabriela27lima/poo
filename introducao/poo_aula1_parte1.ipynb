{
 "cells": [
  {
   "cell_type": "code",
   "execution_count": 1,
   "id": "c9716f9c-eae5-4028-8d1e-a6dbc52bae66",
   "metadata": {},
   "outputs": [],
   "source": [
    "class Carro:\n",
    "    pass "
   ]
  },
  {
   "cell_type": "code",
   "execution_count": 2,
   "id": "b71db0a7-c42c-4a4f-b2e6-9e167eca7755",
   "metadata": {},
   "outputs": [],
   "source": [
    "meu_carro = Carro()"
   ]
  },
  {
   "cell_type": "code",
   "execution_count": 3,
   "id": "472f8478-3832-4e74-93d7-e017818b0c39",
   "metadata": {},
   "outputs": [
    {
     "data": {
      "text/plain": [
       "<__main__.Carro at 0x1a2e7a48790>"
      ]
     },
     "execution_count": 3,
     "metadata": {},
     "output_type": "execute_result"
    }
   ],
   "source": [
    "meu_carro"
   ]
  },
  {
   "cell_type": "code",
   "execution_count": 4,
   "id": "0ccea726-95c1-498b-8965-1e27c74d0555",
   "metadata": {},
   "outputs": [],
   "source": [
    "carro_do_ime = Carro()"
   ]
  },
  {
   "cell_type": "code",
   "execution_count": 5,
   "id": "f44e93a6-8ac5-4845-9a37-d13a155b9f02",
   "metadata": {},
   "outputs": [
    {
     "data": {
      "text/plain": [
       "<__main__.Carro at 0x1a2e7a49450>"
      ]
     },
     "execution_count": 5,
     "metadata": {},
     "output_type": "execute_result"
    }
   ],
   "source": [
    "carro_do_ime"
   ]
  },
  {
   "cell_type": "code",
   "execution_count": 6,
   "id": "943e8ec3-f28a-4263-8b02-6ed4c71d8762",
   "metadata": {},
   "outputs": [],
   "source": [
    "meu_carro.ano = 1968\n",
    "meu_carro.modelo = 'Fusca'\n",
    "meu_carro.cor = 'azul'"
   ]
  },
  {
   "cell_type": "code",
   "execution_count": 8,
   "id": "76535468-57f4-4789-bb67-47db5384f27e",
   "metadata": {},
   "outputs": [
    {
     "data": {
      "text/plain": [
       "1968"
      ]
     },
     "execution_count": 8,
     "metadata": {},
     "output_type": "execute_result"
    }
   ],
   "source": [
    "meu_carro.ano"
   ]
  },
  {
   "cell_type": "code",
   "execution_count": 9,
   "id": "d1b3db44-4c29-4cd9-ab70-3458c2dcf3ba",
   "metadata": {},
   "outputs": [],
   "source": [
    "carro_do_ime.ano = 1981\n",
    "carro_do_ime.modelo = 'Brasilia'\n",
    "carro_do_ime.cor = 'amarelo'"
   ]
  },
  {
   "cell_type": "code",
   "execution_count": 10,
   "id": "21e77a20-84c6-4185-85a9-19216398f017",
   "metadata": {},
   "outputs": [],
   "source": [
    "novo_fusca = meu_carro"
   ]
  },
  {
   "cell_type": "code",
   "execution_count": 11,
   "id": "06dd5d22-9ef7-409c-be59-332dda6b087f",
   "metadata": {},
   "outputs": [
    {
     "data": {
      "text/plain": [
       "1978"
      ]
     },
     "execution_count": 11,
     "metadata": {},
     "output_type": "execute_result"
    }
   ],
   "source": [
    "novo_fusca.ano + 10"
   ]
  }
 ],
 "metadata": {
  "kernelspec": {
   "display_name": "Python 3 (ipykernel)",
   "language": "python",
   "name": "python3"
  },
  "language_info": {
   "codemirror_mode": {
    "name": "ipython",
    "version": 3
   },
   "file_extension": ".py",
   "mimetype": "text/x-python",
   "name": "python",
   "nbconvert_exporter": "python",
   "pygments_lexer": "ipython3",
   "version": "3.10.9"
  }
 },
 "nbformat": 4,
 "nbformat_minor": 5
}
