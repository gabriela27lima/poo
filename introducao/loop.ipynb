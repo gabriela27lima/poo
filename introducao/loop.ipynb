{
 "cells": [
  {
   "cell_type": "code",
   "execution_count": 1,
   "id": "7333b15a-3e95-47d1-92f0-43c58e7b44be",
   "metadata": {},
   "outputs": [],
   "source": [
    "pessoas = {\n",
    "    \"Ana\": 25,\n",
    "    \"Bruno\": 17,\n",
    "    \"Carlos\": 30,\n",
    "    \"Diana\": 15,\n",
    "    \"Eduardo\": 22,\n",
    "    \"Fernanda\": 18\n",
    "}"
   ]
  },
  {
   "cell_type": "code",
   "execution_count": 4,
   "id": "8bfad30e-f192-43a1-9cf0-7a0d74a551d6",
   "metadata": {},
   "outputs": [
    {
     "name": "stdout",
     "output_type": "stream",
     "text": [
      "18.0\n"
     ]
    }
   ],
   "source": [
    "# TODO: Calcule a média das idades\n",
    "\n",
    "all_idade = 0\n",
    "count_idade = 0\n",
    "\n",
    "for idade in pessoas.values():\n",
    "    all_idade =+ idade\n",
    "    count_idade =+1\n",
    "\n",
    "media = all_idade/count_idade\n",
    "print(media)"
   ]
  },
  {
   "cell_type": "code",
   "execution_count": 6,
   "id": "ad7145a3-2a90-479a-8744-dd4187bfa436",
   "metadata": {},
   "outputs": [
    {
     "name": "stdout",
     "output_type": "stream",
     "text": [
      "1\n"
     ]
    }
   ],
   "source": [
    "# TODO: Liste as pessoas com exatamente 18 anos\n",
    "\n",
    "count_18 = 0\n",
    "\n",
    "for idade in pessoas.values():\n",
    "    if idade == 18:\n",
    "        count_18 =+ 1\n",
    "\n",
    "print(count_18)"
   ]
  },
  {
   "cell_type": "code",
   "execution_count": 9,
   "id": "c2997f91-e54a-4ed3-ad87-855311abbe9b",
   "metadata": {},
   "outputs": [
    {
     "name": "stdout",
     "output_type": "stream",
     "text": [
      "Ana\n",
      "Bruno\n",
      "Carlos\n",
      "Diana\n",
      "Eduardo\n",
      "Fernanda\n"
     ]
    }
   ],
   "source": [
    "# TODO: Ordene e exiba os nomes das pessoas\n",
    "\n",
    "for nome in sorted(pessoas.keys()):\n",
    "    print(nome)"
   ]
  },
  {
   "cell_type": "code",
   "execution_count": null,
   "id": "97f63e36-c0b2-41f5-9520-2968f83e0c5f",
   "metadata": {},
   "outputs": [],
   "source": []
  }
 ],
 "metadata": {
  "kernelspec": {
   "display_name": "Python 3 (ipykernel)",
   "language": "python",
   "name": "python3"
  },
  "language_info": {
   "codemirror_mode": {
    "name": "ipython",
    "version": 3
   },
   "file_extension": ".py",
   "mimetype": "text/x-python",
   "name": "python",
   "nbconvert_exporter": "python",
   "pygments_lexer": "ipython3",
   "version": "3.10.9"
  }
 },
 "nbformat": 4,
 "nbformat_minor": 5
}
