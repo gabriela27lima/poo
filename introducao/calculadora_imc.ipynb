{
 "cells": [
  {
   "cell_type": "code",
   "execution_count": 1,
   "id": "ed9ff0a1-b7b9-491e-8a28-7260f70f7657",
   "metadata": {},
   "outputs": [],
   "source": [
    "class Imc:\n",
    "    def __init__(self, nome, sexo,idade, peso, altura):\n",
    "        self.nome = nome\n",
    "        self.idade = idade\n",
    "        self.sexo = sexo.upper()\n",
    "        self.peso = peso\n",
    "        self.altura = altura\n",
    "        self.imc = None  # Inicializa o IMC como None\n",
    "\n",
    "    def apresentar(self):\n",
    "        print(f\"Olá {self.nome}, seja bem-vindo(a) à nossa calculadora de IMC!\")\n",
    "\n",
    "    def calcular(self):\n",
    "        if self.idade < 14:\n",
    "            print(f\"⚠️ Atenção, {self.nome}! Procure um pediatra ou um especialista. 🏥\")\n",
    "        else:\n",
    "            self.imc = self.peso / (self.altura * self.altura)\n",
    "\n",
    "    def score_imc(self):\n",
    "        \"\"\"Classifica o IMC com mensagens divertidas e instrutivas\"\"\"\n",
    "        if self.imc is None:\n",
    "            self.calcular()\n",
    "\n",
    "        if self.imc < 18.5:\n",
    "            classificacao = \"Abaixo do peso\"\n",
    "            mensagem = \"🦴 Ei, que tal reforçar a alimentação? Seu corpo precisa de mais energia! 🥦🍞\"\n",
    "        elif 18.5 <= self.imc < 24.9:\n",
    "            classificacao = \"Peso normal\"\n",
    "            mensagem = \"✅ Tudo certo! Você está na faixa ideal. Mantenha hábitos saudáveis! 🏃‍♀️🥗\"\n",
    "        elif 25 <= self.imc < 29.9:\n",
    "            classificacao = \"Sobrepeso\"\n",
    "            mensagem = \"⚖️ Um equilíbrio é sempre bom! Pequenos ajustes na rotina podem fazer a diferença. 🚴🍎\"\n",
    "        elif 30 <= self.imc < 34.9:\n",
    "            classificacao = \"Obesidade Grau 1\"\n",
    "            mensagem = \"🏋️‍♂️ Bora cuidar da saúde? Exercícios e alimentação equilibrada podem ajudar! 🥦💪\"\n",
    "        elif 35 <= self.imc < 39.9:\n",
    "            classificacao = \"Obesidade Grau 2\"\n",
    "            mensagem = \"🚨 Atenção! Seu IMC indica um risco maior para a saúde. Busque apoio médico! ❤️\"\n",
    "        else:\n",
    "            classificacao = \"Obesidade Grau 3 (mórbida)\"\n",
    "            mensagem = \"⚠️ Seu corpo está pedindo atenção! Cuide-se e procure um especialista. 💙\"\n",
    "\n",
    "        print(f\"{self.nome}, seu IMC é {self.imc:.2f} e de acordo com a OMS você está: {classificacao}.\")\n",
    "        print(mensagem)"
   ]
  },
  {
   "cell_type": "code",
   "execution_count": 2,
   "id": "256f4a3f-097c-4f82-a508-934399adc59b",
   "metadata": {},
   "outputs": [
    {
     "name": "stdout",
     "output_type": "stream",
     "text": [
      "🎉 Bem-vindo à Calculadora de IMC! Vamos descobrir sua classificação!\n"
     ]
    },
    {
     "name": "stdin",
     "output_type": "stream",
     "text": [
      "Digite seu nome:  messi\n",
      "Digite seu sexo (M/F/I):  I\n",
      "Digite sua idade:  31\n",
      "Digite seu peso (kg):  81\n",
      "Digite sua altura (m):  1.75\n"
     ]
    },
    {
     "name": "stdout",
     "output_type": "stream",
     "text": [
      "\n",
      "🔍 Resultado:\n",
      "messi, seu IMC é 26.45 e de acordo com a OMS você está: Sobrepeso.\n",
      "⚖️ Um equilíbrio é sempre bom! Pequenos ajustes na rotina podem fazer a diferença. 🚴🍎\n",
      "None\n"
     ]
    }
   ],
   "source": [
    "print(\"🎉 Bem-vindo à Calculadora de IMC! Vamos descobrir sua classificação!\")\n",
    "\n",
    "nome = input(\"Digite seu nome: \")\n",
    "sexo = input(\"Digite seu sexo (M/F/I): \")\n",
    "idade = int(input(\"Digite sua idade: \"))\n",
    "peso = float(input(\"Digite seu peso (kg): \"))\n",
    "altura = float(input(\"Digite sua altura (m): \"))\n",
    "\n",
    "pessoa = Imc(nome, sexo, idade, peso, altura)\n",
    "\n",
    "print(\"\\n🔍 Resultado:\")\n",
    "resultado = pessoa.score_imc()\n",
    "print(resultado)"
   ]
  },
  {
   "cell_type": "code",
   "execution_count": null,
   "id": "dc893370-2357-45dd-b1b1-156627739468",
   "metadata": {},
   "outputs": [],
   "source": []
  }
 ],
 "metadata": {
  "kernelspec": {
   "display_name": "Python 3 (ipykernel)",
   "language": "python",
   "name": "python3"
  },
  "language_info": {
   "codemirror_mode": {
    "name": "ipython",
    "version": 3
   },
   "file_extension": ".py",
   "mimetype": "text/x-python",
   "name": "python",
   "nbconvert_exporter": "python",
   "pygments_lexer": "ipython3",
   "version": "3.10.9"
  }
 },
 "nbformat": 4,
 "nbformat_minor": 5
}
